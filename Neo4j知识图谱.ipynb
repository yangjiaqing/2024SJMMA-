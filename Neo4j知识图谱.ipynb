{
 "cells": [
  {
   "cell_type": "code",
   "execution_count": null,
   "id": "1dc20964",
   "metadata": {},
   "outputs": [],
   "source": [
    "#知识图谱"
   ]
  },
  {
   "cell_type": "code",
   "execution_count": 3,
   "id": "84aeae30",
   "metadata": {},
   "outputs": [
    {
     "name": "stdout",
     "output_type": "stream",
     "text": [
      "finally\n",
      "导入成功\n"
     ]
    }
   ],
   "source": [
    "import csv  # 导入csv文件\n",
    "import py2neo  # 导入py2neo库\n",
    "from py2neo import Graph, Node, Relationship, NodeMatcher\n",
    " \n",
    "g = Graph('http://localhost:7474', user='neo4j', password='12345678', name='neo4j') #这里是你自己的用户名和密码\n",
    "g.delete_all()  # 清除neo4j中原有的结点等所有信息\n",
    "a=0\n",
    "with open('sanguo.csv', 'r', encoding='utf-8') as f: # 文件路径\n",
    "    next(f) #跳过第一行属性名\n",
    "    for line in f.readlines():\n",
    "        rela_array = line.strip(\"\\n\").split(\",\")\n",
    "        #print(rela_array)\n",
    "        g.run(\"merge (p:person{name: '%s'})\" % (rela_array[0]))\n",
    "        g.run(\"merge (p:person{name: '%s'})\" % (rela_array[1]))\n",
    "        g.run(\"MATCH (e1:person{name:'%s'}), (e2:person{name:'%s'}) CREATE (e1)-[r:R]->(e2) RETURN r\" % (rela_array[0], rela_array[1]))   \n",
    "        #g.run(   \"MATCH(e1: person{name:'%s'}), (e2: person{name:'%s'}) CREATE(e1)-[r:R]->(e2)] RETURN r\" % (rela_array[0], rela_array[1])\n",
    "\n",
    "       #)\n",
    "        a=a+1\n",
    "        if a % 1000 == 0:\n",
    "            print(\"已遍历 %d 次\" % a)\n",
    "print('finally')\n",
    "print('导入成功')   \n"
   ]
  },
  {
   "cell_type": "code",
   "execution_count": null,
   "id": "44040acb",
   "metadata": {},
   "outputs": [],
   "source": []
  },
  {
   "cell_type": "code",
   "execution_count": null,
   "id": "cd95d935",
   "metadata": {},
   "outputs": [],
   "source": []
  }
 ],
 "metadata": {
  "kernelspec": {
   "display_name": "Python 3 (ipykernel)",
   "language": "python",
   "name": "python3"
  },
  "language_info": {
   "codemirror_mode": {
    "name": "ipython",
    "version": 3
   },
   "file_extension": ".py",
   "mimetype": "text/x-python",
   "name": "python",
   "nbconvert_exporter": "python",
   "pygments_lexer": "ipython3",
   "version": "3.10.0"
  }
 },
 "nbformat": 4,
 "nbformat_minor": 5
}
